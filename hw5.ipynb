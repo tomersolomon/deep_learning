{
 "cells": [
  {
   "cell_type": "markdown",
   "metadata": {},
   "source": [
    "# HW 5 Local Work\n",
    "## Tomer Solomon Mate"
   ]
  },
  {
   "cell_type": "code",
   "execution_count": 2,
   "metadata": {
    "collapsed": false
   },
   "outputs": [],
   "source": [
    "import numpy as np\n",
    "import matplotlib.pyplot as plt\n",
    "% matplotlib inline\n",
    "plt.rcParams[\"figure.dpi\"] = 200\n",
    "np.set_printoptions(precision=3, suppress=True)\n",
    "import pandas as pd\n",
    "from sklearn.model_selection import train_test_split, cross_val_score\n",
    "from sklearn.pipeline import make_pipeline\n",
    "from sklearn.preprocessing import scale, StandardScaler\n",
    "\n",
    "import tensorflow as tf\n",
    "\n"
   ]
  },
  {
   "cell_type": "markdown",
   "metadata": {},
   "source": [
    "### Task 1"
   ]
  },
  {
   "cell_type": "code",
   "execution_count": 3,
   "metadata": {
    "collapsed": false
   },
   "outputs": [
    {
     "name": "stderr",
     "output_type": "stream",
     "text": [
      "Using TensorFlow backend.\n"
     ]
    }
   ],
   "source": [
    "#task 1\n",
    "\n",
    "from sklearn.datasets import load_iris\n",
    "from sklearn.model_selection import train_test_split\n",
    "\n",
    "from keras.models import Sequential\n",
    "from keras.layers import Dense, Activation\n",
    "import keras \n",
    "\n",
    "iris_dataset = load_iris()\n",
    "\n",
    "X_train,X_test,y_train,y_test = train_test_split(iris_dataset['data'],iris_dataset['target'],random_state=0)\n",
    "\n",
    "num_classes = 3\n",
    "# convert class vectors to binary class matrices\n",
    "y_train = keras.utils.to_categorical(y_train, num_classes)\n",
    "y_test = keras.utils.to_categorical(y_test, num_classes)\n"
   ]
  },
  {
   "cell_type": "code",
   "execution_count": 6,
   "metadata": {
    "collapsed": false
   },
   "outputs": [
    {
     "data": {
      "text/plain": [
       "(112, 4)"
      ]
     },
     "execution_count": 6,
     "metadata": {},
     "output_type": "execute_result"
    }
   ],
   "source": [
    "X_train.shape"
   ]
  },
  {
   "cell_type": "code",
   "execution_count": 7,
   "metadata": {
    "collapsed": true
   },
   "outputs": [],
   "source": [
    "#model \n",
    "model = Sequential([\n",
    "    Dense(32, input_shape=(4,)),\n",
    "    Activation('relu'),\n",
    "    Dense(32),\n",
    "    Activation('relu'),\n",
    "    Dense(3),\n",
    "    Activation('softmax'),\n",
    "])"
   ]
  },
  {
   "cell_type": "code",
   "execution_count": 103,
   "metadata": {
    "collapsed": false
   },
   "outputs": [
    {
     "name": "stdout",
     "output_type": "stream",
     "text": [
      "_________________________________________________________________\n",
      "Layer (type)                 Output Shape              Param #   \n",
      "=================================================================\n",
      "dense_39 (Dense)             (None, 32)                160       \n",
      "_________________________________________________________________\n",
      "activation_37 (Activation)   (None, 32)                0         \n",
      "_________________________________________________________________\n",
      "dense_40 (Dense)             (None, 32)                1056      \n",
      "_________________________________________________________________\n",
      "activation_38 (Activation)   (None, 32)                0         \n",
      "_________________________________________________________________\n",
      "dense_41 (Dense)             (None, 3)                 99        \n",
      "_________________________________________________________________\n",
      "activation_39 (Activation)   (None, 3)                 0         \n",
      "=================================================================\n",
      "Total params: 1,315\n",
      "Trainable params: 1,315\n",
      "Non-trainable params: 0\n",
      "_________________________________________________________________\n"
     ]
    }
   ],
   "source": [
    "model.summary()"
   ]
  },
  {
   "cell_type": "code",
   "execution_count": 8,
   "metadata": {
    "collapsed": true
   },
   "outputs": [],
   "source": [
    "model.compile(\"adam\", \"categorical_crossentropy\", metrics=['accuracy'])\n"
   ]
  },
  {
   "cell_type": "code",
   "execution_count": 13,
   "metadata": {
    "collapsed": false
   },
   "outputs": [
    {
     "name": "stdout",
     "output_type": "stream",
     "text": [
      "Epoch 1/50\n",
      "112/112 [==============================] - 0s - loss: 0.1288 - acc: 0.9732\n",
      "Epoch 2/50\n",
      "112/112 [==============================] - 0s - loss: 0.1276 - acc: 0.9732\n",
      "Epoch 3/50\n",
      "112/112 [==============================] - 0s - loss: 0.1264 - acc: 0.9732\n",
      "Epoch 4/50\n",
      "112/112 [==============================] - 0s - loss: 0.1252 - acc: 0.9732\n",
      "Epoch 5/50\n",
      "112/112 [==============================] - 0s - loss: 0.1241 - acc: 0.9732\n",
      "Epoch 6/50\n",
      "112/112 [==============================] - 0s - loss: 0.1229 - acc: 0.9732\n",
      "Epoch 7/50\n",
      "112/112 [==============================] - 0s - loss: 0.1218 - acc: 0.9732\n",
      "Epoch 8/50\n",
      "112/112 [==============================] - 0s - loss: 0.1207 - acc: 0.9732\n",
      "Epoch 9/50\n",
      "112/112 [==============================] - 0s - loss: 0.1196 - acc: 0.9732\n",
      "Epoch 10/50\n",
      "112/112 [==============================] - 0s - loss: 0.1185 - acc: 0.9732\n",
      "Epoch 11/50\n",
      "112/112 [==============================] - 0s - loss: 0.1175 - acc: 0.9732\n",
      "Epoch 12/50\n",
      "112/112 [==============================] - 0s - loss: 0.1164 - acc: 0.9732\n",
      "Epoch 13/50\n",
      "112/112 [==============================] - 0s - loss: 0.1154 - acc: 0.9732\n",
      "Epoch 14/50\n",
      "112/112 [==============================] - 0s - loss: 0.1144 - acc: 0.9732\n",
      "Epoch 15/50\n",
      "112/112 [==============================] - 0s - loss: 0.1134 - acc: 0.9732\n",
      "Epoch 16/50\n",
      "112/112 [==============================] - 0s - loss: 0.1125 - acc: 0.9732\n",
      "Epoch 17/50\n",
      "112/112 [==============================] - 0s - loss: 0.1115 - acc: 0.9732\n",
      "Epoch 18/50\n",
      "112/112 [==============================] - 0s - loss: 0.1106 - acc: 0.9732\n",
      "Epoch 19/50\n",
      "112/112 [==============================] - 0s - loss: 0.1097 - acc: 0.9732\n",
      "Epoch 20/50\n",
      "112/112 [==============================] - 0s - loss: 0.1087 - acc: 0.9732\n",
      "Epoch 21/50\n",
      "112/112 [==============================] - 0s - loss: 0.1079 - acc: 0.9732\n",
      "Epoch 22/50\n",
      "112/112 [==============================] - 0s - loss: 0.1070 - acc: 0.9732\n",
      "Epoch 23/50\n",
      "112/112 [==============================] - 0s - loss: 0.1061 - acc: 0.9732\n",
      "Epoch 24/50\n",
      "112/112 [==============================] - 0s - loss: 0.1053 - acc: 0.9732\n",
      "Epoch 25/50\n",
      "112/112 [==============================] - 0s - loss: 0.1044 - acc: 0.9732\n",
      "Epoch 26/50\n",
      "112/112 [==============================] - 0s - loss: 0.1036 - acc: 0.9732\n",
      "Epoch 27/50\n",
      "112/112 [==============================] - 0s - loss: 0.1028 - acc: 0.9732\n",
      "Epoch 28/50\n",
      "112/112 [==============================] - 0s - loss: 0.1020 - acc: 0.9732\n",
      "Epoch 29/50\n",
      "112/112 [==============================] - 0s - loss: 0.1012 - acc: 0.9732\n",
      "Epoch 30/50\n",
      "112/112 [==============================] - 0s - loss: 0.1004 - acc: 0.9732\n",
      "Epoch 31/50\n",
      "112/112 [==============================] - 0s - loss: 0.0997 - acc: 0.9732\n",
      "Epoch 32/50\n",
      "112/112 [==============================] - 0s - loss: 0.0989 - acc: 0.9732\n",
      "Epoch 33/50\n",
      "112/112 [==============================] - 0s - loss: 0.0982 - acc: 0.9732\n",
      "Epoch 34/50\n",
      "112/112 [==============================] - 0s - loss: 0.0974 - acc: 0.9732\n",
      "Epoch 35/50\n",
      "112/112 [==============================] - 0s - loss: 0.0967 - acc: 0.9732\n",
      "Epoch 36/50\n",
      "112/112 [==============================] - 0s - loss: 0.0960 - acc: 0.9732\n",
      "Epoch 37/50\n",
      "112/112 [==============================] - 0s - loss: 0.0953 - acc: 0.9732\n",
      "Epoch 38/50\n",
      "112/112 [==============================] - 0s - loss: 0.0946 - acc: 0.9732\n",
      "Epoch 39/50\n",
      "112/112 [==============================] - 0s - loss: 0.0940 - acc: 0.9732\n",
      "Epoch 40/50\n",
      "112/112 [==============================] - 0s - loss: 0.0933 - acc: 0.9732\n",
      "Epoch 41/50\n",
      "112/112 [==============================] - 0s - loss: 0.0927 - acc: 0.9732\n",
      "Epoch 42/50\n",
      "112/112 [==============================] - 0s - loss: 0.0920 - acc: 0.9732\n",
      "Epoch 43/50\n",
      "112/112 [==============================] - 0s - loss: 0.0914 - acc: 0.9732\n",
      "Epoch 44/50\n",
      "112/112 [==============================] - 0s - loss: 0.0908 - acc: 0.9732\n",
      "Epoch 45/50\n",
      "112/112 [==============================] - 0s - loss: 0.0902 - acc: 0.9732\n",
      "Epoch 46/50\n",
      "112/112 [==============================] - 0s - loss: 0.0896 - acc: 0.9732\n",
      "Epoch 47/50\n",
      "112/112 [==============================] - 0s - loss: 0.0890 - acc: 0.9732\n",
      "Epoch 48/50\n",
      "112/112 [==============================] - 0s - loss: 0.0884 - acc: 0.9732\n",
      "Epoch 49/50\n",
      "112/112 [==============================] - 0s - loss: 0.0878 - acc: 0.9732\n",
      "Epoch 50/50\n",
      "112/112 [==============================] - 0s - loss: 0.0872 - acc: 0.9732\n"
     ]
    },
    {
     "data": {
      "text/plain": [
       "<keras.callbacks.History at 0x11cbbe240>"
      ]
     },
     "execution_count": 13,
     "metadata": {},
     "output_type": "execute_result"
    }
   ],
   "source": [
    "model.fit(X_train, y_train, batch_size=1000, epochs=50, verbose=1)"
   ]
  },
  {
   "cell_type": "code",
   "execution_count": 110,
   "metadata": {
    "collapsed": false
   },
   "outputs": [
    {
     "name": "stdout",
     "output_type": "stream",
     "text": [
      "Test loss: 0.289\n",
      "Test Accuracy: 0.974\n"
     ]
    }
   ],
   "source": [
    "score = model.evaluate(X_test, y_test, verbose=0)\n",
    "print(\"Test loss: {:.3f}\".format(score[0]))\n",
    "print(\"Test Accuracy: {:.3f}\".format(score[1]))"
   ]
  },
  {
   "cell_type": "markdown",
   "metadata": {},
   "source": [
    "### Task 2"
   ]
  },
  {
   "cell_type": "code",
   "execution_count": 419,
   "metadata": {
    "collapsed": false
   },
   "outputs": [],
   "source": [
    "from keras.datasets import mnist\n",
    "import keras\n",
    "\n",
    "(X_train, y_train), (X_test, y_test) = mnist.load_data()\n"
   ]
  },
  {
   "cell_type": "code",
   "execution_count": 406,
   "metadata": {
    "collapsed": false
   },
   "outputs": [],
   "source": [
    "X_train = X_train[0:5]\n",
    "y_train = y_train[0:5]"
   ]
  },
  {
   "cell_type": "code",
   "execution_count": 408,
   "metadata": {
    "collapsed": false
   },
   "outputs": [
    {
     "data": {
      "text/plain": [
       "(5,)"
      ]
     },
     "execution_count": 408,
     "metadata": {},
     "output_type": "execute_result"
    }
   ],
   "source": [
    "y_train.shape"
   ]
  },
  {
   "cell_type": "code",
   "execution_count": 403,
   "metadata": {
    "collapsed": false
   },
   "outputs": [
    {
     "name": "stdout",
     "output_type": "stream",
     "text": [
      "5 train samples\n",
      "10000 test samples\n"
     ]
    }
   ],
   "source": [
    "X_train = X_train.reshape(5, 784)\n",
    "X_test = X_test.reshape(10000, 784)\n",
    "X_train = X_train.astype('float32')\n",
    "X_test = X_test.astype('float32')\n",
    "X_train /= 255\n",
    "X_test /= 255\n",
    "print(X_train.shape[0], 'train samples')\n",
    "print(X_test.shape[0], 'test samples')\n",
    "\n",
    "num_classes = 10\n",
    "# convert class vectors to binary class matrices\n",
    "y_train = keras.utils.to_categorical(y_train, num_classes)\n",
    "y_test = keras.utils.to_categorical(y_test, num_classes)"
   ]
  },
  {
   "cell_type": "code",
   "execution_count": 30,
   "metadata": {
    "collapsed": false
   },
   "outputs": [
    {
     "name": "stdout",
     "output_type": "stream",
     "text": [
      "_________________________________________________________________\n",
      "Layer (type)                 Output Shape              Param #   \n",
      "=================================================================\n",
      "dense_5 (Dense)              (None, 32)                25120     \n",
      "_________________________________________________________________\n",
      "activation_5 (Activation)    (None, 32)                0         \n",
      "_________________________________________________________________\n",
      "dense_6 (Dense)              (None, 10)                330       \n",
      "_________________________________________________________________\n",
      "activation_6 (Activation)    (None, 10)                0         \n",
      "=================================================================\n",
      "Total params: 25,450\n",
      "Trainable params: 25,450\n",
      "Non-trainable params: 0\n",
      "_________________________________________________________________\n"
     ]
    }
   ],
   "source": [
    "model = Sequential([\n",
    "    Dense(32, input_shape=(784,)),\n",
    "    Activation('relu'),\n",
    "    Dense(10),\n",
    "    Activation('softmax'),\n",
    "])\n",
    "\n",
    "model.compile(\"adam\", \"categorical_crossentropy\", metrics=['accuracy'])\n",
    "\n",
    "model.summary()\n"
   ]
  },
  {
   "cell_type": "code",
   "execution_count": 31,
   "metadata": {
    "collapsed": false
   },
   "outputs": [
    {
     "name": "stdout",
     "output_type": "stream",
     "text": [
      "Epoch 1/10\n",
      "5/5 [==============================] - 0s - loss: 2.1986 - acc: 0.0000e+00\n",
      "Epoch 2/10\n",
      "5/5 [==============================] - 0s - loss: 2.0109 - acc: 0.2000\n",
      "Epoch 3/10\n",
      "5/5 [==============================] - 0s - loss: 1.8424 - acc: 0.8000\n",
      "Epoch 4/10\n",
      "5/5 [==============================] - 0s - loss: 1.6922 - acc: 0.8000\n",
      "Epoch 5/10\n",
      "5/5 [==============================] - 0s - loss: 1.5578 - acc: 0.8000\n",
      "Epoch 6/10\n",
      "5/5 [==============================] - 0s - loss: 1.4342 - acc: 0.8000\n",
      "Epoch 7/10\n",
      "5/5 [==============================] - 0s - loss: 1.3228 - acc: 0.8000\n",
      "Epoch 8/10\n",
      "5/5 [==============================] - 0s - loss: 1.2191 - acc: 0.8000\n",
      "Epoch 9/10\n",
      "5/5 [==============================] - 0s - loss: 1.1257 - acc: 0.8000\n",
      "Epoch 10/10\n",
      "5/5 [==============================] - 0s - loss: 1.0400 - acc: 0.8000\n"
     ]
    }
   ],
   "source": [
    "history_vanilla = model.fit(X_train, y_train, batch_size=128, epochs=10, verbose=1)\n"
   ]
  },
  {
   "cell_type": "code",
   "execution_count": 32,
   "metadata": {
    "collapsed": true
   },
   "outputs": [],
   "source": [
    "def plot_history(logger):\n",
    "    df = pd.DataFrame(logger.history)\n",
    "    df[['acc', 'val_acc']].plot()\n",
    "    plt.ylabel(\"accuracy\")\n",
    "    df[['loss', 'val_loss']].plot(linestyle='--', ax=plt.twinx())\n",
    "    plt.ylabel(\"loss\")"
   ]
  },
  {
   "cell_type": "code",
   "execution_count": 37,
   "metadata": {
    "collapsed": false
   },
   "outputs": [
    {
     "data": {
      "text/plain": [
       "<matplotlib.text.Text at 0x128104198>"
      ]
     },
     "execution_count": 37,
     "metadata": {},
     "output_type": "execute_result"
    },
    {
     "data": {
      "image/png": "[encoded data removed]",
      "text/plain": [
       "<matplotlib.figure.Figure at 0x127e95be0>"
      ]
     },
     "metadata": {},
     "output_type": "display_data"
    }
   ],
   "source": [
    "df = pd.DataFrame(history_vanilla.history)\n",
    "df['acc'].plot()\n",
    "plt.ylabel(\"accuracy\")\n",
    "df['loss'].plot(linestyle='--', ax=plt.twinx())\n",
    "plt.ylabel(\"loss\")''"
   ]
  },
  {
   "cell_type": "code",
   "execution_count": 39,
   "metadata": {
    "collapsed": false
   },
   "outputs": [
    {
     "name": "stdout",
     "output_type": "stream",
     "text": [
      "test.png\n"
     ]
    }
   ],
   "source": [
    "model_fit = 'test'\n",
    "test = model_fit + '.png'\n",
    "print(test)"
   ]
  },
  {
   "cell_type": "code",
   "execution_count": 41,
   "metadata": {
    "collapsed": false
   },
   "outputs": [
    {
     "data": {
      "text/plain": [
       "'<keras.callbacks.History object at 0x124c90cf8>'"
      ]
     },
     "execution_count": 41,
     "metadata": {},
     "output_type": "execute_result"
    }
   ],
   "source": [
    "str(history_vanilla)"
   ]
  },
  {
   "cell_type": "code",
   "execution_count": 69,
   "metadata": {
    "collapsed": false
   },
   "outputs": [
    {
     "data": {
      "image/png": "[encoded data removed]",
      "text/plain": [
       "<matplotlib.figure.Figure at 0x129abf048>"
      ]
     },
     "metadata": {},
     "output_type": "display_data"
    }
   ],
   "source": [
    "def vizualize(model_fit,title):\n",
    "    fig, ax = plt.subplots()\n",
    "    df = pd.DataFrame(model_fit.history)\n",
    "    acc = df['acc'].plot(label='accuracy')\n",
    "    plt.ylabel(\"accuracy\")\n",
    "    \n",
    "    ax2 = ax.twinx()\n",
    "    loss = ax2.plot(df['loss'],linestyle='--',label='loss')\n",
    "    #loss = df['loss'].plot(linestyle='--', ax=plt.twinx(),label='loss')\n",
    "    plt.ylabel(\"loss\")\n",
    "\n",
    "    ax2.legend(loc=1)\n",
    "    ax.legend(loc=2)\n",
    "\n",
    "    \n",
    "    plt.title(title)\n",
    "    plt.savefig(str(title)+'.png')\n",
    "\n",
    "vizualize(history_vanilla,'Vanilla')\n"
   ]
  },
  {
   "cell_type": "markdown",
   "metadata": {},
   "source": [
    "## Task 3"
   ]
  },
  {
   "cell_type": "code",
   "execution_count": 496,
   "metadata": {
    "collapsed": true
   },
   "outputs": [],
   "source": [
    "import scipy.io\n",
    "\n",
    "mat = scipy.io.loadmat('train_32x32.mat')\n"
   ]
  },
  {
   "cell_type": "code",
   "execution_count": 507,
   "metadata": {
    "collapsed": false
   },
   "outputs": [],
   "source": [
    "X_train_raw = mat['X']\n",
    "y_train_raw = mat['y']\n"
   ]
  },
  {
   "cell_type": "code",
   "execution_count": 508,
   "metadata": {
    "collapsed": true
   },
   "outputs": [],
   "source": [
    "X_train = X_train_raw.transpose((3, 0, 1, 2))[0:200]"
   ]
  },
  {
   "cell_type": "code",
   "execution_count": 509,
   "metadata": {
    "collapsed": false
   },
   "outputs": [],
   "source": [
    "y_train = []\n",
    "for i,x in enumerate(y_train_raw):\n",
    "    y_train.append(x[0])\n",
    "\n",
    "y_train = pd.Series(y_train).replace(10,0)\n",
    "y_train = np.asarray(y_train)[0:200]\n"
   ]
  },
  {
   "cell_type": "code",
   "execution_count": 510,
   "metadata": {
    "collapsed": false
   },
   "outputs": [],
   "source": [
    "# input image dimensions\n",
    "img_rows, img_cols = 32, 32\n",
    "input_shape = (img_rows, img_cols, 3)\n",
    "\n",
    "X_train = X_train.reshape(X_train.shape[0], img_rows, img_cols, 3)\n",
    "X_train = X_train.astype('float32')\n",
    "X_train /= 255\n",
    "\n",
    "num_classes = 10\n",
    "\n",
    "y_train = keras.utils.to_categorical(y_train, num_classes)\n"
   ]
  },
  {
   "cell_type": "code",
   "execution_count": 511,
   "metadata": {
    "collapsed": false
   },
   "outputs": [
    {
     "name": "stdout",
     "output_type": "stream",
     "text": [
      "_________________________________________________________________\n",
      "Layer (type)                 Output Shape              Param #   \n",
      "=================================================================\n",
      "conv2d_34 (Conv2D)           (None, 30, 30, 64)        1792      \n",
      "_________________________________________________________________\n",
      "max_pooling2d_31 (MaxPooling (None, 15, 15, 64)        0         \n",
      "_________________________________________________________________\n",
      "conv2d_35 (Conv2D)           (None, 13, 13, 64)        36928     \n",
      "_________________________________________________________________\n",
      "max_pooling2d_32 (MaxPooling (None, 6, 6, 64)          0         \n",
      "_________________________________________________________________\n",
      "flatten_16 (Flatten)         (None, 2304)              0         \n",
      "_________________________________________________________________\n",
      "dense_41 (Dense)             (None, 64)                147520    \n",
      "_________________________________________________________________\n",
      "dense_42 (Dense)             (None, 10)                650       \n",
      "=================================================================\n",
      "Total params: 186,890\n",
      "Trainable params: 186,890\n",
      "Non-trainable params: 0\n",
      "_________________________________________________________________\n"
     ]
    }
   ],
   "source": [
    "from keras.layers import Conv2D, MaxPooling2D, Flatten\n",
    "\n",
    "cnn = Sequential()\n",
    "cnn.add(Conv2D(64, kernel_size=(3, 3),\n",
    "                 activation='relu',\n",
    "                 input_shape=input_shape))\n",
    "cnn.add(MaxPooling2D(pool_size=(2, 2)))\n",
    "cnn.add(Conv2D(64, (3, 3), activation='relu'))\n",
    "cnn.add(MaxPooling2D(pool_size=(2, 2)))\n",
    "cnn.add(Flatten())\n",
    "cnn.add(Dense(64, activation='relu'))\n",
    "cnn.add(Dense(num_classes, activation='softmax'))\n",
    "\n",
    "cnn.summary()\n",
    "cnn.compile(\"adam\", \"categorical_crossentropy\", metrics=['accuracy'])\n",
    "\n"
   ]
  },
  {
   "cell_type": "code",
   "execution_count": 512,
   "metadata": {
    "collapsed": false
   },
   "outputs": [
    {
     "name": "stdout",
     "output_type": "stream",
     "text": [
      "Epoch 1/20\n",
      "1000/1000 [==============================] - 3s - loss: 2.2523 - acc: 0.1870     \n",
      "Epoch 2/20\n",
      "1000/1000 [==============================] - 2s - loss: 2.2279 - acc: 0.2070     \n",
      "Epoch 3/20\n",
      "1000/1000 [==============================] - 3s - loss: 2.2251 - acc: 0.2070     \n",
      "Epoch 4/20\n",
      "1000/1000 [==============================] - 2s - loss: 2.2124 - acc: 0.2070     \n",
      "Epoch 5/20\n",
      "1000/1000 [==============================] - 2s - loss: 2.2062 - acc: 0.2070     \n",
      "Epoch 6/20\n",
      "1000/1000 [==============================] - 2s - loss: 2.1960 - acc: 0.2070     \n",
      "Epoch 7/20\n",
      "1000/1000 [==============================] - 2s - loss: 2.1835 - acc: 0.2240     \n",
      "Epoch 8/20\n",
      "1000/1000 [==============================] - 2s - loss: 2.1483 - acc: 0.2620     \n",
      "Epoch 9/20\n",
      "1000/1000 [==============================] - 2s - loss: 2.0962 - acc: 0.2520     \n",
      "Epoch 10/20\n",
      "1000/1000 [==============================] - 2s - loss: 2.0291 - acc: 0.2950     \n",
      "Epoch 11/20\n",
      "1000/1000 [==============================] - 3s - loss: 1.9321 - acc: 0.3570     \n",
      "Epoch 12/20\n",
      "1000/1000 [==============================] - 2s - loss: 1.8235 - acc: 0.3720     \n",
      "Epoch 13/20\n",
      "1000/1000 [==============================] - 3s - loss: 1.7676 - acc: 0.4090     \n",
      "Epoch 14/20\n",
      "1000/1000 [==============================] - 2s - loss: 1.6730 - acc: 0.4340     \n",
      "Epoch 15/20\n",
      "1000/1000 [==============================] - 2s - loss: 1.5660 - acc: 0.4980     \n",
      "Epoch 16/20\n",
      "1000/1000 [==============================] - 2s - loss: 1.4509 - acc: 0.5170     \n",
      "Epoch 17/20\n",
      "1000/1000 [==============================] - 2s - loss: 1.3507 - acc: 0.5770     \n",
      "Epoch 18/20\n",
      "1000/1000 [==============================] - 2s - loss: 1.2291 - acc: 0.6380     \n",
      "Epoch 19/20\n",
      "1000/1000 [==============================] - 2s - loss: 1.1510 - acc: 0.6440     \n",
      "Epoch 20/20\n",
      "1000/1000 [==============================] - 3s - loss: 1.0608 - acc: 0.6830     \n"
     ]
    }
   ],
   "source": [
    "history_cnn = cnn.fit(X_train, y_train,\n",
    "                      batch_size=128, epochs=20, verbose=1)"
   ]
  },
  {
   "cell_type": "code",
   "execution_count": 513,
   "metadata": {
    "collapsed": true
   },
   "outputs": [],
   "source": [
    "mat_train = scipy.io.loadmat('train_32x32.mat')\n",
    "\n",
    "num_classes = 10\n",
    "img_rows, img_cols = 32, 32\n",
    "input_shape = (img_rows, img_cols, 3)\n",
    "\n",
    "def make_data(mat):\n",
    "\tX_train_raw = mat_train['X']\n",
    "\ty_train_raw = mat_train['y']\n",
    "\n",
    "\tX_train = X_train_raw.transpose((3, 0, 1, 2))[0:200]\n",
    "\n",
    "\ty_train = []\n",
    "\tfor i,x in enumerate(y_train_raw):\n",
    "\t    y_train.append(x[0])\n",
    "\n",
    "\ty_train = pd.Series(y_train).replace(10,0)\n",
    "\ty_train = np.asarray(y_train)[0:200]\n",
    "\n",
    "\tX_train = X_train.reshape(X_train.shape[0], img_rows, img_cols, 3)\n",
    "\tX_train = X_train.astype('float32')\n",
    "\tX_train /= 255\n",
    "\n",
    "\n",
    "\ty_train = keras.utils.to_categorical(y_train, num_classes)\n",
    "\n",
    "\treturn X_train,y_train\n",
    "\n",
    "X_train,y_train = make_data(mat_train)"
   ]
  },
  {
   "cell_type": "markdown",
   "metadata": {},
   "source": [
    "## TASK 4"
   ]
  },
  {
   "cell_type": "code",
   "execution_count": null,
   "metadata": {
    "collapsed": true
   },
   "outputs": [],
   "source": []
  }
 ],
 "metadata": {
  "anaconda-cloud": {},
  "kernelspec": {
   "display_name": "Python [python3]",
   "language": "python",
   "name": "Python [python3]"
  },
  "language_info": {
   "codemirror_mode": {
    "name": "ipython",
    "version": 3
   },
   "file_extension": ".py",
   "mimetype": "text/x-python",
   "name": "python",
   "nbconvert_exporter": "python",
   "pygments_lexer": "ipython3",
   "version": "3.5.2"
  }
 },
 "nbformat": 4,
 "nbformat_minor": 0
}
